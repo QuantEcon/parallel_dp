{
 "cells": [
  {
   "cell_type": "code",
   "execution_count": 1,
   "metadata": {},
   "outputs": [
    {
     "data": {
      "text/plain": [
       "4-element Array{Int64,1}:\n",
       " 2\n",
       " 3\n",
       " 4\n",
       " 5"
      ]
     },
     "execution_count": 1,
     "metadata": {},
     "output_type": "execute_result"
    }
   ],
   "source": [
    "using QuantEcon\n",
    "addprocs(4)"
   ]
  },
  {
   "cell_type": "code",
   "execution_count": 2,
   "metadata": {},
   "outputs": [],
   "source": [
    "@everywhere mutable struct RBC{T <: Real}\n",
    "    α::Float64\n",
    "    β::Float64\n",
    "    z::Vector{T}\n",
    "    T::Matrix{T}\n",
    "    K::Float64\n",
    "    out::Float64\n",
    "    cs::Float64\n",
    "    k_grid::Vector{T}\n",
    "    output::Matrix{T}\n",
    "    f_value::Matrix{Float64}\n",
    "    n::Int64\n",
    "    m::Int64\n",
    "\n",
    "end\n"
   ]
  },
  {
   "cell_type": "code",
   "execution_count": 3,
   "metadata": {
    "collapsed": true
   },
   "outputs": [],
   "source": [
    "@everywhere function RBC(;α = 1/3,\n",
    "                          β = 0.95)\n",
    "    \n",
    "    mc = QuantEcon.tauchen(100, 0.9, 0.1, 0.5)\n",
    "    z =  mc.state_values\n",
    "    T = mc.p\n",
    "    K = (α * β)^(1 / (1 - α))\n",
    "    out = K^α\n",
    "    cs = out - K\n",
    "    k_grid = collect(0.5*K:0.00001:1.5*K)\n",
    "    output = (k_grid.^α) * z';\n",
    "    n = length(k_grid)\n",
    "    m = length(z)\n",
    "    f_value  = zeros(n, m)\n",
    "    RBC(α, β, z, T, K, out, cs, k_grid, output, f_value, n, m)\n",
    "    \n",
    "end\n",
    "\n"
   ]
  },
  {
   "cell_type": "code",
   "execution_count": 4,
   "metadata": {},
   "outputs": [
    {
     "data": {
      "text/plain": [
       "vfi! (generic function with 1 method)"
      ]
     },
     "execution_count": 4,
     "metadata": {},
     "output_type": "execute_result"
    }
   ],
   "source": [
    "function vfi!(rbc::RBC,\n",
    "              bellman_operator!::Function; tol::Float64=1e-7,error::Float64=10.0)\n",
    "    iter = 0\n",
    "    fpolicy = 0\n",
    "    while error > tol \n",
    "        (error, fpolicy) = bellman_operator!(rbc)\n",
    "        iter = iter + 1\n",
    "        if mod(iter, 10)==0 || iter == 1\n",
    "            println(\" Iteration = \", iter, \" Sup Diff = \", error)\n",
    "        end \n",
    "    end\n",
    "    \n",
    "    println(\" My check = \", fpolicy)\n",
    "\n",
    "end"
   ]
  },
  {
   "cell_type": "code",
   "execution_count": 5,
   "metadata": {},
   "outputs": [],
   "source": [
    "@everywhere function bellman_operator!(rbc::RBC)\n",
    "\n",
    "        f_valueN = SharedArray{Float64,2}(rbc.n, rbc.m)\n",
    "        f_policy = SharedArray{Float64,2}(rbc.n, rbc.m)\n",
    "        E = rbc.f_value * rbc.T'\n",
    "        @sync @parallel for i = 1: rbc.m\n",
    "            kNext = 1\n",
    "            for j = 1:rbc.n\n",
    "                v_max = -1000.0\n",
    "                k_choice  = rbc.k_grid[1]\n",
    "                    for l = kNext : rbc.n\n",
    "                        c = rbc.output[j, i] - rbc.k_grid[l]\n",
    "                        v = (1 - rbc.β) * log(c) + rbc.β * E[l, i]\n",
    "                        if v > v_max\n",
    "                            v_max = v\n",
    "                            k_choice = rbc.k_grid[l]\n",
    "                            kNext = l\n",
    "                        else\n",
    "                            break \n",
    "                        end\n",
    "                                 \n",
    "                    end\n",
    "                    f_valueN[j, i] = v_max\n",
    "                    f_policy[j, i] = k_choice\n",
    "              end\n",
    "        end    \n",
    "    error  = maximum(abs.(f_valueN - rbc.f_value))\n",
    "    rbc.f_value = f_valueN\n",
    "    return (error, f_policy[1000, 3])\n",
    "end\n"
   ]
  },
  {
   "cell_type": "code",
   "execution_count": 6,
   "metadata": {},
   "outputs": [],
   "source": [
    "rbc = RBC();"
   ]
  },
  {
   "cell_type": "code",
   "execution_count": 7,
   "metadata": {},
   "outputs": [
    {
     "name": "stdout",
     "output_type": "stream",
     "text": [
      " Iteration = 1 Sup Diff = 0.06369885100730058\n",
      " Iteration = 10 Sup Diff = 0.03569333797489649\n",
      " Iteration = 20 Sup Diff = 0.02070733980397277\n",
      " Iteration = 30 Sup Diff = 0.012259080086808094\n",
      " Iteration = 40 Sup Diff = 0.007311075640998421\n",
      " Iteration = 50 Sup Diff = 0.004371439831109214\n",
      " Iteration = 60 Sup Diff = 0.0026161100113157865\n",
      " Iteration = 70 Sup Diff = 0.001566107423631724\n",
      " Iteration = 80 Sup Diff = 0.0009376339127058486\n",
      " Iteration = 90 Sup Diff = 0.0005613852395218721\n",
      " Iteration = 100 Sup Diff = 0.000336119848320493\n",
      " Iteration = 110 Sup Diff = 0.0002012469088676916\n",
      " Iteration = 120 Sup Diff = 0.00012049386329548994\n",
      " Iteration = 130 Sup Diff = 7.214410732059306e-5\n",
      " Iteration = 140 Sup Diff = 4.319533796159902e-5\n",
      " Iteration = 150 Sup Diff = 2.5862643607155178e-5\n",
      " Iteration = 160 Sup Diff = 1.548491990233103e-5\n",
      " Iteration = 170 Sup Diff = 9.271393511145476e-6\n",
      " Iteration = 180 Sup Diff = 5.551125766167786e-6\n",
      " Iteration = 190 Sup Diff = 3.323664049315056e-6\n",
      " Iteration = 200 Sup Diff = 1.9900004404327376e-6\n",
      " Iteration = 210 Sup Diff = 1.1914867736884105e-6\n",
      " Iteration = 220 Sup Diff = 7.13387144468669e-7\n",
      " Iteration = 230 Sup Diff = 4.271312357140289e-7\n",
      " Iteration = 240 Sup Diff = 2.5573924888888655e-7\n",
      " Iteration = 250 Sup Diff = 1.531205358062948e-7\n",
      " My check = 0.2672891436962635\n",
      " 38.709050 seconds (2.46 M allocations: 13.874 GiB, 1.46% gc time)\n"
     ]
    }
   ],
   "source": [
    "@time vfi!(rbc, bellman_operator!)"
   ]
  },
  {
   "cell_type": "code",
   "execution_count": 8,
   "metadata": {},
   "outputs": [
    {
     "name": "stdout",
     "output_type": "stream",
     "text": [
      " Iteration = 1 Sup Diff = 9.167892134342992e-8\n",
      " My check = 0.2672891436962635\n",
      "  0.146118 seconds (2.84 k allocations: 54.485 MiB, 4.56% gc time)\n"
     ]
    }
   ],
   "source": [
    "@time vfi!(rbc, bellman_operator!)"
   ]
  }
 ],
 "metadata": {
  "kernelspec": {
   "display_name": "Julia 0.6.0",
   "language": "julia",
   "name": "julia-0.6"
  },
  "language_info": {
   "file_extension": ".jl",
   "mimetype": "application/julia",
   "name": "julia",
   "version": "0.6.0"
  }
 },
 "nbformat": 4,
 "nbformat_minor": 2
}
