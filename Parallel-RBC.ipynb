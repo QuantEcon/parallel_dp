{
 "cells": [
  {
   "cell_type": "code",
   "execution_count": 1,
   "metadata": {},
   "outputs": [
    {
     "data": {
      "text/plain": [
       "4-element Array{Int64,1}:\n",
       " 2\n",
       " 3\n",
       " 4\n",
       " 5"
      ]
     },
     "execution_count": 1,
     "metadata": {},
     "output_type": "execute_result"
    }
   ],
   "source": [
    "workspace()\n",
    "addprocs(4)"
   ]
  },
  {
   "cell_type": "code",
   "execution_count": 2,
   "metadata": {
    "collapsed": true
   },
   "outputs": [],
   "source": [
    "@everywhere mutable struct RBC{T <: Real}\n",
    "    α::Float64\n",
    "    β::Float64\n",
    "    z::Matrix{T}\n",
    "    T::Matrix{T}\n",
    "    K::Float64\n",
    "    out::Float64\n",
    "    cs::Float64\n",
    "    k_grid::Vector{T}\n",
    "    output::Matrix{Float64}\n",
    "    n::Int64\n",
    "    m::Int64\n",
    "    f_value::Matrix{Float64}\n",
    "    f_valueN::SharedArray{T,2}\n",
    "    f_policy::SharedArray{T,2}\n",
    "\n",
    "end"
   ]
  },
  {
   "cell_type": "code",
   "execution_count": 3,
   "metadata": {
    "collapsed": true
   },
   "outputs": [],
   "source": [
    "@everywhere function RBC(;α = 1/3,\n",
    "                   β = 0.95,\n",
    "                   z = [0.9792 0.9896 1.0000 1.0106 1.0212],\n",
    "                   T = [0.9727 0.0273 0.0000 0.0000 0.0000;\n",
    "                        0.0041 0.9806 0.0153 0.0000 0.0000;\n",
    "                        0.0000 0.0082 0.9837 0.0082 0.0000;\n",
    "                        0.0000 0.0000 0.0153 0.9806 0.0041;\n",
    "                        0.0000 0.0000 0.0000 0.0273 0.9727])\n",
    "    K = (α * β)^(1 / (1 - α))\n",
    "    out = K^α\n",
    "    cs = out - K\n",
    "    k_grid = collect(0.5*K:0.00001:1.5*K)\n",
    "    output = (k_grid.^α) * z;\n",
    "    n = length(k_grid)\n",
    "    m = length(z)\n",
    "    f_value  = zeros(n, m)\n",
    "\n",
    "    f_valueN = SharedArray{Float64,2}(n, m)\n",
    "    f_policy = SharedArray{Float64,2}(n, m)\n",
    "    \n",
    "    RBC(α, β, z, T, K, out, cs, k_grid, output, n, m, f_value, f_valueN, f_policy)\n",
    "    \n",
    "end"
   ]
  },
  {
   "cell_type": "code",
   "execution_count": 4,
   "metadata": {},
   "outputs": [
    {
     "data": {
      "text/plain": [
       "vfi! (generic function with 1 method)"
      ]
     },
     "execution_count": 4,
     "metadata": {},
     "output_type": "execute_result"
    }
   ],
   "source": [
    "function vfi!(rbc::RBC,\n",
    "              bellman_operator!::Function; tol::Float64=1e-7,error::Float64=10.0)\n",
    "    \n",
    "    iter = 0        \n",
    "    while error > tol \n",
    "\n",
    "        bellman_operator!(rbc)\n",
    "        error  = maximum(abs.(rbc.f_valueN - rbc.f_value))\n",
    "        rbc.f_value = rbc.f_valueN\n",
    "        iter = iter + 1\n",
    "        if mod(iter, 10)==0 || iter == 1\n",
    "            println(\" Iteration = \", iter, \" Sup Diff = \", error)\n",
    "        end \n",
    "    end\n",
    "    println(\" My check = \", rbc.f_policy[1000, 3])\n",
    "end"
   ]
  },
  {
   "cell_type": "code",
   "execution_count": 5,
   "metadata": {
    "collapsed": true
   },
   "outputs": [],
   "source": [
    "@everywhere function bellman_operator!(rbc::RBC)\n",
    "                \n",
    "        E = rbc.f_value * rbc.T'\n",
    "        @sync @parallel for i = 1: rbc.m\n",
    "            kNext = 1\n",
    "            for j = 1:rbc.n\n",
    "                v_max = -1000.0\n",
    "                k_choice  = rbc.k_grid[1]\n",
    "                    for l = kNext : rbc.n\n",
    "                        c = rbc.output[j, i] - rbc.k_grid[l]\n",
    "                        v = (1 - rbc.β) * log(c) + rbc.β * E[l, i]\n",
    "                        if v > v_max\n",
    "                            v_max = v\n",
    "                            k_choice = rbc.k_grid[l]\n",
    "                            kNext = l\n",
    "                        else\n",
    "                            break \n",
    "                        end\n",
    "                                 \n",
    "                    end\n",
    "                    rbc.f_valueN[j, i] = v_max\n",
    "                    rbc.f_policy[j, i] = k_choice\n",
    "              end\n",
    "        end  \n",
    "end"
   ]
  },
  {
   "cell_type": "code",
   "execution_count": 6,
   "metadata": {
    "collapsed": true
   },
   "outputs": [],
   "source": [
    "rbc = RBC();"
   ]
  },
  {
   "cell_type": "code",
   "execution_count": 7,
   "metadata": {},
   "outputs": [
    {
     "name": "stdout",
     "output_type": "stream",
     "text": [
      " Iteration = 1 Sup Diff = 0.05274159340733661\n",
      " Iteration = 10 Sup Diff = 0.031346949265852075\n",
      " Iteration = 20 Sup Diff = 0.01870345989335709\n",
      " Iteration = 30 Sup Diff = 0.01116551203397076\n",
      " Iteration = 40 Sup Diff = 0.00666854170813258\n",
      " Iteration = 50 Sup Diff = 0.003984292748717033\n",
      " Iteration = 60 Sup Diff = 0.0023813118039327508\n",
      " Iteration = 70 Sup Diff = 0.0014236586450983024\n",
      " Iteration = 80 Sup Diff = 0.0008513397747205165\n",
      " Iteration = 90 Sup Diff = 0.0005092051752288995\n",
      " Iteration = 100 Sup Diff = 0.00030462324421465237\n",
      " Iteration = 110 Sup Diff = 0.00018226485632300005\n",
      " Iteration = 120 Sup Diff = 0.00010906950872624499\n",
      " Iteration = 130 Sup Diff = 6.527643736320421e-5\n",
      " Iteration = 140 Sup Diff = 3.907108211997912e-5\n",
      " Iteration = 150 Sup Diff = 2.3388077119990136e-5\n",
      " Iteration = 160 Sup Diff = 1.4008644637186762e-5\n",
      " Iteration = 170 Sup Diff = 8.391317202871562e-6\n",
      " Iteration = 180 Sup Diff = 5.026474537817016e-6\n",
      " Iteration = 190 Sup Diff = 3.010899863653549e-6\n",
      " Iteration = 200 Sup Diff = 1.8035522479920019e-6\n",
      " Iteration = 210 Sup Diff = 1.080340915837752e-6\n",
      " Iteration = 220 Sup Diff = 6.471316943423844e-7\n",
      " Iteration = 230 Sup Diff = 3.876361938104367e-7\n",
      " Iteration = 240 Sup Diff = 2.3219657907525004e-7\n",
      " Iteration = 250 Sup Diff = 1.3908720930544405e-7\n",
      " My check = 0.1465491436962635\n",
      "  3.545244 seconds (796.96 k allocations: 737.883 MiB, 1.10% gc time)\n"
     ]
    }
   ],
   "source": [
    "@time vfi!(rbc, bellman_operator!)"
   ]
  },
  {
   "cell_type": "code",
   "execution_count": 8,
   "metadata": {},
   "outputs": [
    {
     "name": "stdout",
     "output_type": "stream",
     "text": [
      " Iteration = 1 Sup Diff = 9.230648756464177e-8\n",
      " My check = 0.1465491436962635\n",
      "  0.007999 seconds (1.31 k allocations: 2.770 MiB)\n"
     ]
    }
   ],
   "source": [
    "@time vfi!(rbc, bellman_operator!)"
   ]
  }
 ],
 "metadata": {
  "kernelspec": {
   "display_name": "Julia 0.6.0",
   "language": "julia",
   "name": "julia-0.6"
  },
  "language_info": {
   "file_extension": ".jl",
   "mimetype": "application/julia",
   "name": "julia",
   "version": "0.6.0"
  }
 },
 "nbformat": 4,
 "nbformat_minor": 2
}
